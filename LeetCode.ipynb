{
  "cells": [
    {
      "cell_type": "markdown",
      "source": [
        "# Leetcode questions"
      ],
      "metadata": {
        "collapsed": false,
        "outputHidden": false,
        "inputHidden": false
      }
    },
    {
      "cell_type": "markdown",
      "source": [
        "### Two Sum \\[E]\n",
        "https://leetcode.com/problems/two-sum/"
      ],
      "metadata": {}
    },
    {
      "cell_type": "code",
      "source": [
        "def twoSum(nums, target):\n",
        "    \"\"\"\n",
        "    :type nums: List[int]\n",
        "    :type target: int\n",
        "    :rtype: List[int]\n",
        "    \"\"\"\n",
        "    nums_dict = {nums[i]: i for i in range(len(nums))}\n",
        "    for i in range(len(nums)):\n",
        "        complement = target - nums[i]\n",
        "        if nums_dict.get(complement) is not None:\n",
        "            i_c = nums_dict[complement]\n",
        "            if i_c != i:\n",
        "                return [i, i_c]\n",
        "            \n",
        "twoSum([2,7,11,15], 9)"
      ],
      "outputs": [
        {
          "output_type": "execute_result",
          "execution_count": 4,
          "data": {
            "text/plain": [
              "[0, 1]"
            ]
          },
          "metadata": {}
        }
      ],
      "execution_count": 4,
      "metadata": {
        "collapsed": false,
        "outputHidden": false,
        "inputHidden": false
      }
    },
    {
      "cell_type": "markdown",
      "source": [
        "### Longest Substring Without Repeating Characters \\[M]\n",
        "https://leetcode.com/problems/longest-substring-without-repeating-characters/"
      ],
      "metadata": {}
    },
    {
      "cell_type": "code",
      "source": [
        "def lengthOfLongestSubstring(s):\n",
        "    \"\"\"\n",
        "    :type s: str\n",
        "    :rtype: int\n",
        "    \"\"\"\n",
        "    s_dict = {}\n",
        "    max_length = 0\n",
        "    sub_length = 0\n",
        "    for i in range(len(s)):\n",
        "        s_dict = {}\n",
        "        sub_length = 0\n",
        "        for j in range(i, len(s)):\n",
        "            if s_dict.get(s[j]) is None:\n",
        "                s_dict[s[j]] = i\n",
        "                sub_length += 1\n",
        "            else:\n",
        "                max_length = max(max_length, sub_length)\n",
        "                sub_length = 0\n",
        "                break;\n",
        "        max_length = max(max_length, sub_length)\n",
        "    return max(max_length, sub_length)\n",
        "                \n",
        "lengthOfLongestSubstring(\"abcabcbb\")\n",
        "lengthOfLongestSubstring(\"dawdf\")\n",
        "lengthOfLongestSubstring(\" \")\n",
        "            \n",
        "        "
      ],
      "outputs": [
        {
          "output_type": "execute_result",
          "execution_count": 3,
          "data": {
            "text/plain": [
              "1"
            ]
          },
          "metadata": {}
        }
      ],
      "execution_count": 3,
      "metadata": {}
    },
    {
      "cell_type": "markdown",
      "source": [
        "### Max number of points on a line \\[H]"
      ],
      "metadata": {
        "collapsed": false,
        "outputHidden": false,
        "inputHidden": false
      }
    },
    {
      "cell_type": "code",
      "source": [
        "# Definition for a point.\n",
        "# class Point:\n",
        "#     def __init__(self, a=0, b=0):\n",
        "#         self.x = a\n",
        "#         self.y = b\n",
        "\n",
        "class Solution:\n",
        "    def maxPoints(self, points):\n",
        "        \"\"\"\n",
        "        :type points: List[Point]\n",
        "        :rtype: int\n",
        "        \"\"\"\n",
        "        if len(points) < 2:\n",
        "            return len(points)\n",
        "        else:\n",
        "            lines = {}\n",
        "            max_count = 1\n",
        "            for i in range(len(points)):\n",
        "                p1 = points[i]\n",
        "                duplicate = 0\n",
        "                lines_i = {}\n",
        "                max_count_i = 1\n",
        "                for j in range(i+1, len(points)):\n",
        "                    p2 = points[j]\n",
        "                    if p1.x == p2.x and p1.y == p2.y:\n",
        "                        duplicate +=1\n",
        "                    else:\n",
        "                        if p1.x == p2.x:\n",
        "                            m = 'Inf'\n",
        "                            l = ( m, p1.x )\n",
        "                        else:\n",
        "                            m = (p1.y - p2.y) * 1.0 / (p1.x - p2.x)\n",
        "                            l= ( m, p2.y - m*p2.x )\n",
        "                        if l in lines_i.keys():\n",
        "                            lines_i[l] += 1\n",
        "                        else:\n",
        "                            lines_i[l] = 1\n",
        "                if not lines_i:\n",
        "                    max_count_i += max( max_count_i, duplicate)\n",
        "                else:\n",
        "                    max_count_i += max( max_count_i, duplicate  + max(lines_i.values()))\n",
        "                print(lines_i)\n",
        "                max_count = max(max_count, max_count_i)\n",
        "        return max_count\n",
        "                    \n"
      ],
      "outputs": [],
      "execution_count": null,
      "metadata": {
        "collapsed": false,
        "outputHidden": false,
        "inputHidden": false
      }
    }
  ],
  "metadata": {
    "kernel_info": {
      "name": "python3"
    },
    "language_info": {
      "name": "python",
      "version": "3.7.2",
      "mimetype": "text/x-python",
      "codemirror_mode": {
        "name": "ipython",
        "version": 3
      },
      "pygments_lexer": "ipython3",
      "nbconvert_exporter": "python",
      "file_extension": ".py"
    },
    "kernelspec": {
      "name": "python3",
      "language": "python",
      "display_name": "Python 3"
    },
    "nteract": {
      "version": "0.12.3"
    }
  },
  "nbformat": 4,
  "nbformat_minor": 4
}