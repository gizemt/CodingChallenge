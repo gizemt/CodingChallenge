{
  "cells": [
    {
      "cell_type": "markdown",
      "source": [
        "1. [Greedy Algorithm](#greedy)\n",
        "    1. [Minimum Absolute Difference in an Array](#greedy1)\n",
        "    2. [Sock Merchant](#greedy2)\n",
        "2. [Dynamic Programming](#dynamic)\n",
        "    1. "
      ],
      "metadata": {}
    },
    {
      "cell_type": "markdown",
      "source": [
        "<a id='greedy'></a>\n",
        "# Greedy Algorithm"
      ],
      "metadata": {}
    },
    {
      "cell_type": "markdown",
      "source": [
        "<a id='greedy1'></a>\n",
        "## Minimum Absolute Difference in an Array\n",
        "https://www.hackerrank.com/challenges/minimum-absolute-difference-in-an-array/problem"
      ],
      "metadata": {}
    },
    {
      "cell_type": "code",
      "source": [
        " #!/bin/python\n",
        "\n",
        "import math\n",
        "import os\n",
        "import random\n",
        "import re\n",
        "import sys\n",
        "\n",
        "# Complete the minimumAbsoluteDifference function below.\n",
        "def minimumAbsoluteDifference(arr):\n",
        "    arr.sort()\n",
        "    min_diff = 2000000000\n",
        "    for i in range(len(arr)-1):\n",
        "        abs_diff = abs(arr[i]-arr[i+1])\n",
        "        if abs_diff <= min_diff:\n",
        "            min_diff = abs_diff\n",
        "    return min_diff\n",
        "\n",
        "if __name__ == '__main__':\n",
        "    n = int(raw_input())\n",
        "    arr = map(int, raw_input().rstrip().split())\n",
        "    result = minimumAbsoluteDifference(arr)\n",
        "    print(result)"
      ],
      "outputs": [
        {
          "output_type": "error",
          "ename": "NameError",
          "evalue": "name 'raw_input' is not defined",
          "traceback": [
            "\u001b[0;31m---------------------------------------------------------------------------\u001b[0m",
            "\u001b[0;31mNameError\u001b[0m                                 Traceback (most recent call last)",
            "\u001b[0;32m<ipython-input-1-fec33b131f3d>\u001b[0m in \u001b[0;36m<module>\u001b[0;34m\u001b[0m\n\u001b[1;32m     18\u001b[0m \u001b[0;34m\u001b[0m\u001b[0m\n\u001b[1;32m     19\u001b[0m \u001b[0;32mif\u001b[0m \u001b[0m__name__\u001b[0m \u001b[0;34m==\u001b[0m \u001b[0;34m'__main__'\u001b[0m\u001b[0;34m:\u001b[0m\u001b[0;34m\u001b[0m\u001b[0;34m\u001b[0m\u001b[0m\n\u001b[0;32m---> 20\u001b[0;31m    \u001b[0mn\u001b[0m \u001b[0;34m=\u001b[0m \u001b[0mint\u001b[0m\u001b[0;34m(\u001b[0m\u001b[0mraw_input\u001b[0m\u001b[0;34m(\u001b[0m\u001b[0;34m)\u001b[0m\u001b[0;34m)\u001b[0m\u001b[0;34m\u001b[0m\u001b[0;34m\u001b[0m\u001b[0m\n\u001b[0m\u001b[1;32m     21\u001b[0m    \u001b[0marr\u001b[0m \u001b[0;34m=\u001b[0m \u001b[0mmap\u001b[0m\u001b[0;34m(\u001b[0m\u001b[0mint\u001b[0m\u001b[0;34m,\u001b[0m \u001b[0mraw_input\u001b[0m\u001b[0;34m(\u001b[0m\u001b[0;34m)\u001b[0m\u001b[0;34m.\u001b[0m\u001b[0mrstrip\u001b[0m\u001b[0;34m(\u001b[0m\u001b[0;34m)\u001b[0m\u001b[0;34m.\u001b[0m\u001b[0msplit\u001b[0m\u001b[0;34m(\u001b[0m\u001b[0;34m)\u001b[0m\u001b[0;34m)\u001b[0m\u001b[0;34m\u001b[0m\u001b[0;34m\u001b[0m\u001b[0m\n\u001b[1;32m     22\u001b[0m    \u001b[0mresult\u001b[0m \u001b[0;34m=\u001b[0m \u001b[0mminimumAbsoluteDifference\u001b[0m\u001b[0;34m(\u001b[0m\u001b[0marr\u001b[0m\u001b[0;34m)\u001b[0m\u001b[0;34m\u001b[0m\u001b[0;34m\u001b[0m\u001b[0m\n",
            "\u001b[0;31mNameError\u001b[0m: name 'raw_input' is not defined"
          ]
        }
      ],
      "execution_count": 1,
      "metadata": {
        "collapsed": false
      }
    },
    {
      "cell_type": "markdown",
      "source": [
        "<a id='greedy2'></a>\n",
        "## Sock Merchant\n",
        "https://www.hackerrank.com/challenges/sock-merchant/problem"
      ],
      "metadata": {}
    },
    {
      "cell_type": "code",
      "source": [
        "#!/bin/python\n",
        "\n",
        "import math\n",
        "import os\n",
        "import random\n",
        "import re\n",
        "import sys\n",
        "\n",
        "# Complete the sockMerchant function below.\n",
        "def sockMerchant(n, arr):\n",
        "    arr.sort()\n",
        "    pairs = 0\n",
        "    first_one = 1\n",
        "    for i in range(len(arr)-1):\n",
        "        if first_one and arr[i] == arr[i+1]:\n",
        "            pairs +=1\n",
        "            first_one = 0\n",
        "        elif not arr[i] == arr[i+1]:\n",
        "            first_one = 1\n",
        "        else:\n",
        "            first_one = 1\n",
        "    return pairs\n",
        "\n",
        "if __name__ == '__main__':\n",
        "    n = int(raw_input())\n",
        "    ar = map(int, raw_input().rstrip().split())\n",
        "    result = sockMerchant(n, ar)\n",
        "    print(result)\n"
      ],
      "outputs": [],
      "execution_count": null,
      "metadata": {
        "collapsed": true
      }
    },
    {
      "cell_type": "markdown",
      "source": [
        "<a id='dynamic'></a>\n",
        "# Dynamic Programming"
      ],
      "metadata": {
        "collapsed": false,
        "outputHidden": false,
        "inputHidden": false
      }
    },
    {
      "cell_type": "markdown",
      "source": [
        "<a id='dynamic1'></a>\n",
        "## The coin change problem\n",
        "https://www.hackerrank.com/challenges/coin-change/problem"
      ],
      "metadata": {}
    },
    {
      "cell_type": "code",
      "source": [
        "#!/bin/python3\n",
        "\n",
        "import math\n",
        "import os\n",
        "import random\n",
        "import re\n",
        "import sys\n",
        "import numpy as np\n",
        "\n",
        "# Complete the getWays function below.\n",
        "def getWays(n, c):\n",
        "    c = np.sort(c)\n",
        "    nc = np.zeros([len(c), n+1])\n",
        "    nc[:,0] = 1\n",
        "    nc[0, :] = [int(i%c[0] == 0) for i in range(n+1)]\n",
        "    for m in range(1, n+1):\n",
        "        for j in range(1, len(c)):\n",
        "            jj = 0\n",
        "            while jj <= j and m - c[jj] >= 0:\n",
        "                nc[j, m] += nc[jj, m - c[jj]]\n",
        "                jj += 1\n",
        "    return nc[-1, -1]\n",
        "\n",
        "if __name__ == '__main__':\n",
        "    # fptr = open(os.environ['OUTPUT_PATH'], 'w')\n",
        "\n",
        "    # nm = input().split()\n",
        "\n",
        "    n = 18#int(nm[0])\n",
        "\n",
        "    m = 23#int(nm[1])\n",
        "\n",
        "    c = [49, 9, 40, 17, 46, 24, 42, 26, 43, 41, 35, 1, 47, 28, 20 ,38, 2, 44, 32, 22, 18 ,45, 25]#list(map(int, input().rstrip().split()))\n",
        "\n",
        "    # Print the number of ways of making change for 'n' units using coins having the values given by 'c'\n",
        "\n",
        "    ways = getWays(n, c)\n",
        "    print(ways)\n",
        "\n",
        "    # fptr.close()\n"
      ],
      "outputs": [
        {
          "output_type": "stream",
          "name": "stdout",
          "text": [
            "18.0\n"
          ]
        }
      ],
      "execution_count": 18,
      "metadata": {}
    },
    {
      "cell_type": "markdown",
      "source": [
        "<a id='dynamic2'></a>\n",
        "## Equal\n",
        "https://www.hackerrank.com/challenges/equal/problem"
      ],
      "metadata": {
        "collapsed": false,
        "outputHidden": false,
        "inputHidden": false
      }
    },
    {
      "cell_type": "code",
      "source": [
        "#!/bin/python3\n",
        "\n",
        "import math\n",
        "import os\n",
        "import random\n",
        "import re\n",
        "import sys\n",
        "\n",
        "# Complete the equal function below.\n",
        "def equal(arr):\n",
        "    m0 = min(arr)\n",
        "    ml = max(arr)\n",
        "    DP = [[float(\"Inf\")]*(m0+1) for _ in range((ml + 1))]\n",
        "    for j in range(m0, ml + 1):\n",
        "        for i in range(0, m0+1):\n",
        "            if m0 - i == j: \n",
        "                DP[j][i] = 0\n",
        "            else:\n",
        "                tmp = []\n",
        "                for c in [1, 2, 5]:\n",
        "                    if j - m0 + i >= c:\n",
        "                        tmp.append(DP[j-c][i]+1)\n",
        "                if len(tmp) > 0: DP[j][i] = min(tmp)\n",
        "    sums = []\n",
        "    for i in range(0, m0+1):\n",
        "        sums.append(sum(DP[a][i] for a in arr))\n",
        "    return min(sums)\n",
        "\n\n",
        "if __name__ == '__main__':\n",
        "    fptr = open(os.environ['OUTPUT_PATH'], 'w')\n",
        "\n",
        "    t = int(input())\n",
        "\n",
        "    for t_itr in range(t):\n",
        "        n = int(input())\n",
        "\n",
        "        arr = list(map(int, input().rstrip().split()))\n",
        "\n",
        "        result = equal(arr)\n",
        "\n",
        "        fptr.write(str(result) + '\\n')\n",
        "\n",
        "    fptr.close()\n"
      ],
      "outputs": [
        {
          "output_type": "error",
          "ename": "KeyError",
          "evalue": "'OUTPUT_PATH'",
          "traceback": [
            "\u001b[0;31m---------------------------------------------------------------------------\u001b[0m",
            "\u001b[0;31mKeyError\u001b[0m                                  Traceback (most recent call last)",
            "\u001b[0;32m<ipython-input-21-f459361e2ff0>\u001b[0m in \u001b[0;36m<module>\u001b[0;34m\u001b[0m\n\u001b[1;32m     29\u001b[0m \u001b[0;34m\u001b[0m\u001b[0m\n\u001b[1;32m     30\u001b[0m \u001b[0;32mif\u001b[0m \u001b[0m__name__\u001b[0m \u001b[0;34m==\u001b[0m \u001b[0;34m'__main__'\u001b[0m\u001b[0;34m:\u001b[0m\u001b[0;34m\u001b[0m\u001b[0;34m\u001b[0m\u001b[0m\n\u001b[0;32m---> 31\u001b[0;31m     \u001b[0mfptr\u001b[0m \u001b[0;34m=\u001b[0m \u001b[0mopen\u001b[0m\u001b[0;34m(\u001b[0m\u001b[0mos\u001b[0m\u001b[0;34m.\u001b[0m\u001b[0menviron\u001b[0m\u001b[0;34m[\u001b[0m\u001b[0;34m'OUTPUT_PATH'\u001b[0m\u001b[0;34m]\u001b[0m\u001b[0;34m,\u001b[0m \u001b[0;34m'w'\u001b[0m\u001b[0;34m)\u001b[0m\u001b[0;34m\u001b[0m\u001b[0;34m\u001b[0m\u001b[0m\n\u001b[0m\u001b[1;32m     32\u001b[0m \u001b[0;34m\u001b[0m\u001b[0m\n\u001b[1;32m     33\u001b[0m     \u001b[0mt\u001b[0m \u001b[0;34m=\u001b[0m \u001b[0mint\u001b[0m\u001b[0;34m(\u001b[0m\u001b[0minput\u001b[0m\u001b[0;34m(\u001b[0m\u001b[0;34m)\u001b[0m\u001b[0;34m)\u001b[0m\u001b[0;34m\u001b[0m\u001b[0;34m\u001b[0m\u001b[0m\n",
            "\u001b[0;32m/usr/local/Cellar/python/3.7.2_1/Frameworks/Python.framework/Versions/3.7/lib/python3.7/os.py\u001b[0m in \u001b[0;36m__getitem__\u001b[0;34m(self, key)\u001b[0m\n\u001b[1;32m    676\u001b[0m         \u001b[0;32mexcept\u001b[0m \u001b[0mKeyError\u001b[0m\u001b[0;34m:\u001b[0m\u001b[0;34m\u001b[0m\u001b[0;34m\u001b[0m\u001b[0m\n\u001b[1;32m    677\u001b[0m             \u001b[0;31m# raise KeyError with the original key value\u001b[0m\u001b[0;34m\u001b[0m\u001b[0;34m\u001b[0m\u001b[0;34m\u001b[0m\u001b[0m\n\u001b[0;32m--> 678\u001b[0;31m             \u001b[0;32mraise\u001b[0m \u001b[0mKeyError\u001b[0m\u001b[0;34m(\u001b[0m\u001b[0mkey\u001b[0m\u001b[0;34m)\u001b[0m \u001b[0;32mfrom\u001b[0m \u001b[0;32mNone\u001b[0m\u001b[0;34m\u001b[0m\u001b[0;34m\u001b[0m\u001b[0m\n\u001b[0m\u001b[1;32m    679\u001b[0m         \u001b[0;32mreturn\u001b[0m \u001b[0mself\u001b[0m\u001b[0;34m.\u001b[0m\u001b[0mdecodevalue\u001b[0m\u001b[0;34m(\u001b[0m\u001b[0mvalue\u001b[0m\u001b[0;34m)\u001b[0m\u001b[0;34m\u001b[0m\u001b[0;34m\u001b[0m\u001b[0m\n\u001b[1;32m    680\u001b[0m \u001b[0;34m\u001b[0m\u001b[0m\n",
            "\u001b[0;31mKeyError\u001b[0m: 'OUTPUT_PATH'"
          ]
        }
      ],
      "execution_count": 21,
      "metadata": {
        "collapsed": false,
        "outputHidden": false,
        "inputHidden": false
      }
    },
    {
      "cell_type": "code",
      "source": [
        "[1, 2, 3]*2"
      ],
      "outputs": [
        {
          "output_type": "execute_result",
          "execution_count": 22,
          "data": {
            "text/plain": [
              "[1, 2, 3, 1, 2, 3]"
            ]
          },
          "metadata": {}
        }
      ],
      "execution_count": 22,
      "metadata": {
        "collapsed": false,
        "outputHidden": false,
        "inputHidden": false
      }
    },
    {
      "cell_type": "markdown",
      "source": [
        "<a id='interview'></a>\n",
        "# Interview Prep"
      ],
      "metadata": {
        "collapsed": false,
        "outputHidden": false,
        "inputHidden": false
      }
    },
    {
      "cell_type": "markdown",
      "source": [
        "<a id='interview1'></a>\n",
        "## Counting Valleys\n",
        "https://www.hackerrank.com/challenges/counting-valleys/"
      ],
      "metadata": {}
    },
    {
      "cell_type": "code",
      "source": [
        "#!/bin/python3\n",
        "\n",
        "import math\n",
        "import os\n",
        "import random\n",
        "import re\n",
        "import sys\n",
        "\n",
        "# Complete the countingValleys function below.\n",
        "def countingValleys(n, s):\n",
        "    alt = 0\n",
        "    alt_prev = 0\n",
        "    n_val = 0\n",
        "    for i in range(n):\n",
        "        if s[i] == 'D':\n",
        "            alt -= 1\n",
        "        elif s[i] == 'U':\n",
        "            alt += 1\n",
        "        if (alt_prev, alt) == (-1, 0):\n",
        "            n_val += 1\n",
        "        alt_prev = alt\n",
        "    return n_val\n",
        "        \n",
        "\n\n",
        "if __name__ == '__main__':\n",
        "    fptr = open(os.environ['OUTPUT_PATH'], 'w')\n",
        "\n",
        "    n = int(input())\n",
        "\n",
        "    s = input()\n",
        "\n",
        "    result = countingValleys(n, s)\n",
        "\n",
        "    fptr.write(str(result) + '\\n')\n",
        "\n",
        "    fptr.close()\n"
      ],
      "outputs": [
        {
          "output_type": "error",
          "ename": "KeyError",
          "evalue": "'OUTPUT_PATH'",
          "traceback": [
            "\u001b[0;31m---------------------------------------------------------------------------\u001b[0m",
            "\u001b[0;31mKeyError\u001b[0m                                  Traceback (most recent call last)",
            "\u001b[0;32m<ipython-input-23-93b0654c708b>\u001b[0m in \u001b[0;36m<module>\u001b[0;34m\u001b[0m\n\u001b[1;32m     25\u001b[0m \u001b[0;34m\u001b[0m\u001b[0m\n\u001b[1;32m     26\u001b[0m \u001b[0;32mif\u001b[0m \u001b[0m__name__\u001b[0m \u001b[0;34m==\u001b[0m \u001b[0;34m'__main__'\u001b[0m\u001b[0;34m:\u001b[0m\u001b[0;34m\u001b[0m\u001b[0;34m\u001b[0m\u001b[0m\n\u001b[0;32m---> 27\u001b[0;31m     \u001b[0mfptr\u001b[0m \u001b[0;34m=\u001b[0m \u001b[0mopen\u001b[0m\u001b[0;34m(\u001b[0m\u001b[0mos\u001b[0m\u001b[0;34m.\u001b[0m\u001b[0menviron\u001b[0m\u001b[0;34m[\u001b[0m\u001b[0;34m'OUTPUT_PATH'\u001b[0m\u001b[0;34m]\u001b[0m\u001b[0;34m,\u001b[0m \u001b[0;34m'w'\u001b[0m\u001b[0;34m)\u001b[0m\u001b[0;34m\u001b[0m\u001b[0;34m\u001b[0m\u001b[0m\n\u001b[0m\u001b[1;32m     28\u001b[0m \u001b[0;34m\u001b[0m\u001b[0m\n\u001b[1;32m     29\u001b[0m     \u001b[0mn\u001b[0m \u001b[0;34m=\u001b[0m \u001b[0mint\u001b[0m\u001b[0;34m(\u001b[0m\u001b[0minput\u001b[0m\u001b[0;34m(\u001b[0m\u001b[0;34m)\u001b[0m\u001b[0;34m)\u001b[0m\u001b[0;34m\u001b[0m\u001b[0;34m\u001b[0m\u001b[0m\n",
            "\u001b[0;32m/usr/local/Cellar/python/3.7.2_1/Frameworks/Python.framework/Versions/3.7/lib/python3.7/os.py\u001b[0m in \u001b[0;36m__getitem__\u001b[0;34m(self, key)\u001b[0m\n\u001b[1;32m    676\u001b[0m         \u001b[0;32mexcept\u001b[0m \u001b[0mKeyError\u001b[0m\u001b[0;34m:\u001b[0m\u001b[0;34m\u001b[0m\u001b[0;34m\u001b[0m\u001b[0m\n\u001b[1;32m    677\u001b[0m             \u001b[0;31m# raise KeyError with the original key value\u001b[0m\u001b[0;34m\u001b[0m\u001b[0;34m\u001b[0m\u001b[0;34m\u001b[0m\u001b[0m\n\u001b[0;32m--> 678\u001b[0;31m             \u001b[0;32mraise\u001b[0m \u001b[0mKeyError\u001b[0m\u001b[0;34m(\u001b[0m\u001b[0mkey\u001b[0m\u001b[0;34m)\u001b[0m \u001b[0;32mfrom\u001b[0m \u001b[0;32mNone\u001b[0m\u001b[0;34m\u001b[0m\u001b[0;34m\u001b[0m\u001b[0m\n\u001b[0m\u001b[1;32m    679\u001b[0m         \u001b[0;32mreturn\u001b[0m \u001b[0mself\u001b[0m\u001b[0;34m.\u001b[0m\u001b[0mdecodevalue\u001b[0m\u001b[0;34m(\u001b[0m\u001b[0mvalue\u001b[0m\u001b[0;34m)\u001b[0m\u001b[0;34m\u001b[0m\u001b[0;34m\u001b[0m\u001b[0m\n\u001b[1;32m    680\u001b[0m \u001b[0;34m\u001b[0m\u001b[0m\n",
            "\u001b[0;31mKeyError\u001b[0m: 'OUTPUT_PATH'"
          ]
        }
      ],
      "execution_count": 23,
      "metadata": {}
    },
    {
      "cell_type": "markdown",
      "source": [
        "<a id='interview2'></a>\n",
        "## Jumping on the clouds\n",
        "https://www.hackerrank.com/challenges/jumping-on-the-clouds/problem"
      ],
      "metadata": {
        "collapsed": false,
        "outputHidden": false,
        "inputHidden": false
      }
    },
    {
      "cell_type": "code",
      "source": [
        "#!/bin/python3\n",
        "\n",
        "import math\n",
        "import os\n",
        "import random\n",
        "import re\n",
        "import sys\n",
        "\n",
        "# Complete the jumpingOnClouds function below.\n",
        "def jumpingOnClouds(c):\n",
        "    pos = 0\n",
        "    n_jumps = 0\n",
        "    while pos < len(c) - 2:\n",
        "        if  (c[pos + 2] == 0):\n",
        "            pos += 2\n",
        "            n_jumps += 1\n",
        "        else:\n",
        "            pos += 1\n",
        "            n_jumps += 1\n",
        "    if pos != len(c)-1:\n",
        "        n_jumps += 1\n",
        "\n",
        "    return n_jumps\n",
        "\njumpingOnClouds([0, 0, 1, 0, 0, 1, 0])"
      ],
      "outputs": [
        {
          "output_type": "execute_result",
          "execution_count": 31,
          "data": {
            "text/plain": [
              "4"
            ]
          },
          "metadata": {}
        }
      ],
      "execution_count": 31,
      "metadata": {}
    },
    {
      "cell_type": "markdown",
      "source": [
        "<a id='interview3'></a>\n",
        "## Repeated String\n",
        "https://www.hackerrank.com/challenges/repeated-string/"
      ],
      "metadata": {
        "collapsed": false,
        "outputHidden": false,
        "inputHidden": false
      }
    },
    {
      "cell_type": "code",
      "source": [
        "#!/bin/python3\n",
        "\n",
        "import math\n",
        "import os\n",
        "import random\n",
        "import re\n",
        "import sys\n",
        "\n",
        "# Complete the repeatedString function below.\n",
        "def repeatedString(s, n):\n",
        "    num_a_in_s = 0\n",
        "    num_a = 0\n",
        "    for i in range(len(s)):\n",
        "        if s[i] == 'a':\n",
        "            num_a_in_s += 1\n",
        "            if i < n%len(s): num_a += 1\n",
        "    return num_a_in_s*(n//len(s)) + num_a\n",
        "\n",
        "repeatedString('aba', 10)\n"
      ],
      "outputs": [
        {
          "output_type": "execute_result",
          "execution_count": 32,
          "data": {
            "text/plain": [
              "7"
            ]
          },
          "metadata": {}
        }
      ],
      "execution_count": 32,
      "metadata": {}
    },
    {
      "cell_type": "markdown",
      "source": [
        "<a id='interview4'></a>\n",
        "## 2D Array - DS (Hourglass Sum)\n",
        "https://www.hackerrank.com/challenges/2d-array/"
      ],
      "metadata": {
        "collapsed": false,
        "outputHidden": false,
        "inputHidden": false
      }
    },
    {
      "cell_type": "code",
      "source": [
        "#!/bin/python3\n",
        "\n",
        "import math\n",
        "import os\n",
        "import random\n",
        "import re\n",
        "import sys\n",
        "\n",
        "# Complete the hourglassSum function below.\n",
        "def hourglassSum(arr):\n",
        "    n = len(arr)\n",
        "    mask = [[1, 1, 1], [0, 1, 0], [1, 1, 1]]\n",
        "    max_sum = float(\"-Inf\")\n",
        "    for i in range(n - 2):\n",
        "        for j in range(n - 2):\n",
        "            s = get_hourglass_sum(arr, mask, [i, j])\n",
        "            if s > max_sum: max_sum = s\n",
        "    return max_sum\n",
        "\n",
        "def get_hourglass_sum(arr, mask, idx):\n",
        "    s = 0\n",
        "    for i in range(len(mask)):\n",
        "        for j in range(len(mask)):\n",
        "            s += mask[i][j]*arr[idx[0]+i][idx[1]+j]\n",
        "    return s\n",
        "\n",
        "inp = ['1 1 1 0 0 0','0 1 0 0 0 0', '1 1 1 0 0 0', '0 0 2 4 4 0', '0 0 0 2 0 0', '0 0 1 2 4 0']\n",
        "arr = []\n",
        "for i in range(len(inp)):\n",
        "    arr.append(list(map(int, inp[i].rstrip().split())))\n",
        "hourglassSum(arr)"
      ],
      "outputs": [
        {
          "output_type": "execute_result",
          "execution_count": 46,
          "data": {
            "text/plain": [
              "19"
            ]
          },
          "metadata": {}
        }
      ],
      "execution_count": 46,
      "metadata": {
        "collapsed": false,
        "outputHidden": false,
        "inputHidden": false
      }
    },
    {
      "cell_type": "markdown",
      "source": [
        "<a id='interview5'></a>\n",
        "## New Year chaos\n",
        "https://www.hackerrank.com/challenges/new-year-chaos\n",
        "* These algorithms below gives timeout error for 4 cases where $10^3 \\leq n \\leq 10^5$"
      ],
      "metadata": {
        "collapsed": false,
        "outputHidden": false,
        "inputHidden": false
      }
    },
    {
      "cell_type": "code",
      "source": [
        "#!/bin/python3\n",
        "\n",
        "import math\n",
        "import os\n",
        "import random\n",
        "import re\n",
        "import sys\n",
        "\n",
        "# Complete the minimumBribes function below.\n",
        "def minimumBribes(q):\n",
        "    if q[-1] - len(q) > 2:\n",
        "        print('Too chaotic')\n",
        "    else:\n",
        "        mb = 0\n",
        "        for i in range(len(q)-1):\n",
        "            if q[i] - (i + 1) > 2:\n",
        "                mb = 'Too chaotic'\n",
        "                break;\n",
        "            else:\n",
        "                for j in range(i+1, len(q)):\n",
        "                    mb += q[i] > q[j]\n",
        "        print(mb)\n",
        "\n\n",
        "    '''mb = 0\n",
        "    q_new = q[:]\n",
        "    if q_new[0] - 1 > 2:\n",
        "        print('Too chaotic')\n",
        "    else:\n",
        "        for i in range(len(q), 1, -1):\n",
        "            if q_new[i-1] - i > 2:\n",
        "                mb = 'Too chaotic'\n",
        "                break;\n",
        "            else:\n",
        "                idx = q.index(i)\n",
        "                mb += i - 1 - idx\n",
        "                q.remove(i)\n",
        "        print(mb)'''\n",
        "    \n",
        "    '''mb = 0\n",
        "    flag = 0\n",
        "    for i in range(len(q)):\n",
        "        if q[i] - i - 1 > 2:\n",
        "            print('Too chaotic')\n",
        "            flag = 1\n",
        "            break;\n",
        "            \n",
        "    if not flag:\n",
        "        for i in range(len(q), 1, -1):\n",
        "            idx = q.index(i)\n",
        "            mb += i - 1 - idx\n",
        "            q.remove(i)\n",
        "        print(mb)'''\n",
        "\n\n",
        "if __name__ == '__main__':\n",
        "    t = 1#int(input())\n",
        "\n",
        "    for t_itr in range(t):\n",
        "        n = 8#int(input())\n",
        "\n",
        "        q = list(map(int, '1 2 5 3 7 8 6 4'.rstrip().split()))\n",
        "\n",
        "        minimumBribes(q)\n"
      ],
      "outputs": [
        {
          "output_type": "stream",
          "name": "stdout",
          "text": [
            "7\n"
          ]
        }
      ],
      "execution_count": 51,
      "metadata": {}
    },
    {
      "cell_type": "code",
      "source": [],
      "outputs": [],
      "execution_count": null,
      "metadata": {
        "collapsed": false,
        "outputHidden": false,
        "inputHidden": false
      }
    }
  ],
  "metadata": {
    "kernelspec": {
      "name": "python3",
      "language": "python",
      "display_name": "Python 3"
    },
    "language_info": {
      "name": "python",
      "version": "3.7.2",
      "mimetype": "text/x-python",
      "codemirror_mode": {
        "name": "ipython",
        "version": 3
      },
      "pygments_lexer": "ipython3",
      "nbconvert_exporter": "python",
      "file_extension": ".py"
    },
    "kernel_info": {
      "name": "python3"
    },
    "nteract": {
      "version": "0.12.3"
    }
  },
  "nbformat": 4,
  "nbformat_minor": 1
}